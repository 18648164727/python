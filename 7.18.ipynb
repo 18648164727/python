{
 "cells": [
  {
   "cell_type": "markdown",
   "metadata": {},
   "source": [
    "# 选择\n",
    "## 布尔类型、数值和表达式\n",
    "![](../Photo/33.png)\n",
    "- 注意：比较运算符的相等是两个等号，一个等到代表赋值\n",
    "- 在Python中可以用整型0来代表False，其他数字来代表True\n",
    "- 后面还会讲到 is 在判断语句中的用发"
   ]
  },
  {
   "cell_type": "code",
   "execution_count": 1,
   "metadata": {},
   "outputs": [
    {
     "data": {
      "text/plain": [
       "True"
      ]
     },
     "execution_count": 1,
     "metadata": {},
     "output_type": "execute_result"
    }
   ],
   "source": [
    "bool(\"Joker\")"
   ]
  },
  {
   "cell_type": "code",
   "execution_count": 2,
   "metadata": {},
   "outputs": [
    {
     "name": "stdout",
     "output_type": "stream",
     "text": [
      "140737010242368 140737010242368\n"
     ]
    }
   ],
   "source": [
    "a = id(1)\n",
    "b = id(1)\n",
    "#False的原因：a和b并不是同一个对象\n",
    "print(a,b)\n",
    "a is b"
   ]
  },
  {
   "cell_type": "code",
   "execution_count": 3,
   "metadata": {},
   "outputs": [
    {
     "data": {
      "text/plain": [
       "False"
      ]
     },
     "execution_count": 3,
     "metadata": {},
     "output_type": "execute_result"
    }
   ],
   "source": [
    "#is 比较内存地址\n",
    "id(1) is id(1)"
   ]
  },
  {
   "cell_type": "code",
   "execution_count": 5,
   "metadata": {},
   "outputs": [],
   "source": [
    "a=True\n",
    "b=False\n"
   ]
  },
  {
   "cell_type": "code",
   "execution_count": 6,
   "metadata": {},
   "outputs": [
    {
     "data": {
      "text/plain": [
       "140737009719632"
      ]
     },
     "execution_count": 6,
     "metadata": {},
     "output_type": "execute_result"
    }
   ],
   "source": [
    "id(True)"
   ]
  },
  {
   "cell_type": "markdown",
   "metadata": {},
   "source": [
    "## 字符串的比较使用ASCII值"
   ]
  },
  {
   "cell_type": "code",
   "execution_count": 7,
   "metadata": {},
   "outputs": [
    {
     "data": {
      "text/plain": [
       "False"
      ]
     },
     "execution_count": 7,
     "metadata": {},
     "output_type": "execute_result"
    }
   ],
   "source": [
    "#J在j的前面\n",
    "a = \"Joker\"\n",
    "b = \"joker\"\n",
    "a>b"
   ]
  },
  {
   "cell_type": "markdown",
   "metadata": {},
   "source": [
    "## Markdown \n",
    "- https://github.com/younghz/Markdown"
   ]
  },
  {
   "cell_type": "markdown",
   "metadata": {},
   "source": [
    "#将代码变为标记。成为Markdown语法框\n"
   ]
  },
  {
   "cell_type": "markdown",
   "metadata": {},
   "source": [
    "## EP:\n",
    "- <img src=\"../Photo/34.png\"></img>\n",
    "- 输入一个数字，判断其实奇数还是偶数"
   ]
  },
  {
   "cell_type": "code",
   "execution_count": 12,
   "metadata": {},
   "outputs": [
    {
     "name": "stdout",
     "output_type": "stream",
     "text": [
      "1\n"
     ]
    }
   ],
   "source": [
    "i = int(True)\n",
    "print(i)"
   ]
  },
  {
   "cell_type": "code",
   "execution_count": 13,
   "metadata": {},
   "outputs": [
    {
     "name": "stdout",
     "output_type": "stream",
     "text": [
      "True\n"
     ]
    }
   ],
   "source": [
    "b1 = bool(4)\n",
    "print(b1)"
   ]
  },
  {
   "cell_type": "code",
   "execution_count": 8,
   "metadata": {},
   "outputs": [
    {
     "name": "stdout",
     "output_type": "stream",
     "text": [
      "输入一个数字78\n",
      "偶数\n"
     ]
    }
   ],
   "source": [
    "#输入一个数字，判断其实奇数还是偶数\n",
    "num = eval(input(\"输入一个数字\"))\n",
    "if num % 2 == 0:\n",
    "    print(\"偶数\")\n",
    "else :\n",
    "    print(\"奇数\")"
   ]
  },
  {
   "cell_type": "markdown",
   "metadata": {},
   "source": [
    "## 产生随机数字\n",
    "- 函数random.randint(a,b) 可以用来产生一个a和b之间且包括a和b的随机整数"
   ]
  },
  {
   "cell_type": "code",
   "execution_count": 5,
   "metadata": {},
   "outputs": [],
   "source": [
    "import random"
   ]
  },
  {
   "cell_type": "code",
   "execution_count": 15,
   "metadata": {},
   "outputs": [
    {
     "name": "stdout",
     "output_type": "stream",
     "text": [
      "7\n"
     ]
    }
   ],
   "source": [
    "print(random.randint(0,9) )"
   ]
  },
  {
   "cell_type": "markdown",
   "metadata": {},
   "source": [
    "产生一个随机数，你去输入，如果你输入的数大于随机数，那么就告诉你太大了，反之，太小了，\n",
    "然后你一直输入，知道它满意为止"
   ]
  },
  {
   "cell_type": "code",
   "execution_count": 8,
   "metadata": {},
   "outputs": [],
   "source": [
    "num1 = random.randint(0,100)"
   ]
  },
  {
   "cell_type": "code",
   "execution_count": 10,
   "metadata": {},
   "outputs": [
    {
     "name": "stdout",
     "output_type": "stream",
     "text": [
      "输入一个数7\n",
      "太小了\n",
      "输入一个数7\n",
      "太小了\n",
      "输入一个数2\n",
      "太小了\n",
      "输入一个数9\n",
      "太小了\n",
      "输入一个数999\n",
      "太大了\n"
     ]
    }
   ],
   "source": [
    "for i in range(5):\n",
    "    num = eval(input(\"输入一个数\"))\n",
    "    if num>num1:\n",
    "        print(\"太大了\")\n",
    "    if num<num1:\n",
    "        print(\"太小了\")\n",
    "    if num ==num1:\n",
    "        print(\"正好\")\n",
    "        break"
   ]
  },
  {
   "cell_type": "markdown",
   "metadata": {},
   "source": [
    "##  其他random方法\n",
    "- random.random 返回0.0到1.0之间前闭后开区间的随机浮点\n",
    "- random.randrange(a,b) 前闭后开"
   ]
  },
  {
   "cell_type": "code",
   "execution_count": 6,
   "metadata": {},
   "outputs": [
    {
     "data": {
      "text/plain": [
       "0.8588366077975947"
      ]
     },
     "execution_count": 6,
     "metadata": {},
     "output_type": "execute_result"
    }
   ],
   "source": [
    "random.random()"
   ]
  },
  {
   "cell_type": "markdown",
   "metadata": {},
   "source": [
    "## EP：\n",
    "- 产生两个随机整数number1和number2，然后显示给用户，使用户输入数字的和，并判定其是否正确\n",
    "- 进阶:写一个随机序号点名程序"
   ]
  },
  {
   "cell_type": "code",
   "execution_count": 2,
   "metadata": {},
   "outputs": [
    {
     "name": "stdout",
     "output_type": "stream",
     "text": [
      "输入数字和：7\n",
      "错误\n",
      "(1, 1)\n"
     ]
    }
   ],
   "source": [
    "import random\n",
    "num = random.randint(0,10)\n",
    "num1 = random.randint(0,4)\n",
    "sum_ = num + num1\n",
    "sum1= eval(input(\"输入数字和：\"))\n",
    "if sum1 ==sum_:\n",
    "    print(\"正确\")\n",
    "else:\n",
    "    print(\"错误\")\n",
    "print((num,num1))"
   ]
  },
  {
   "cell_type": "code",
   "execution_count": null,
   "metadata": {},
   "outputs": [],
   "source": [
    "num = random.randint(0,10)\n",
    "num1 = random.randint(0,4)\n",
    "sum1= eval(input(\"输入数字和：\"))\n",
    "while 1:\n",
    "    sum_ = num + num1\n",
    "    if sum1 ==sum_:\n",
    "        print(\"正确\")\n",
    "    else:\n",
    "        print(\"错误\")\n",
    "print((num,num1))"
   ]
  },
  {
   "cell_type": "markdown",
   "metadata": {},
   "source": [
    "## if语句\n",
    "- 如果条件正确就执行一个单向if语句，亦即当条件为真的时候才执行if内部的语句\n",
    "- Python有很多选择语句:\n",
    "> - 单向if \n",
    "  - 双向if-else\n",
    "  - 嵌套if\n",
    "  - 多向if-elif-else\n",
    "  \n",
    "- 注意：当语句含有子语句的时候，那么一定至少要有一个缩进，也就是说如果有儿子存在，那么一定要缩进\n",
    "- 切记不可tab键和space混用，单用tab 或者 space\n",
    "- 当你输出的结果是无论if是否为真时都需要显示时，语句应该与if对齐"
   ]
  },
  {
   "cell_type": "code",
   "execution_count": 5,
   "metadata": {},
   "outputs": [
    {
     "name": "stdout",
     "output_type": "stream",
     "text": [
      "输入一个数87\n",
      "太大了\n",
      "不要灰心\n"
     ]
    }
   ],
   "source": [
    "num = eval(input(\"输入一个数\"))\n",
    "num1 = random.randint(0,100)\n",
    "if num>num1:\n",
    "    print(\"太大了\")\n",
    "if num<num1:\n",
    "    print(\"太小了\")\n",
    "if num ==num1:\n",
    "    print(\"正好\")\n",
    "print(\"不要灰心\")"
   ]
  },
  {
   "cell_type": "code",
   "execution_count": 11,
   "metadata": {},
   "outputs": [
    {
     "name": "stdout",
     "output_type": "stream",
     "text": [
      "输入姓名张巧凤\n",
      "输入年龄:50\n",
      "输入帅或不帅:0\n",
      "输入有或没有妻子：1\n",
      "拜拜\n"
     ]
    }
   ],
   "source": [
    "name = input(\"输入姓名\")\n",
    "age = eval(input(\"输入年龄:\"))\n",
    "waimao = eval(input(\"输入帅或不帅:\"))\n",
    "lover = eval(input(\"输入有或没有妻子：\"))\n",
    "if age >= 30:\n",
    "    print(\"拜拜\")\n",
    "if age <=30:\n",
    "    print(\"继续了解\")\n",
    "    if waimao == 0:\n",
    "        print(\"说再见\")\n",
    "        if lover == 1:\n",
    "             print(\"回家的诱惑\")"
   ]
  },
  {
   "cell_type": "code",
   "execution_count": null,
   "metadata": {},
   "outputs": [],
   "source": [
    "age = input(\"年轻吗[y/n]\")\n",
    "if age ==\"y\":\n",
    "    handsome=input(\"帅否[y/n]\")\n",
    "    if handsome ==\"y\":\n",
    "        wife = input(\"有没有妻子[y/n]\")\n",
    "        if wife ==\"y\":\n",
    "            print(\"原地爆炸\")\n",
    "        else:\n",
    "            print(\"立马结婚\")\n",
    "    else:\n",
    "        print(\"考虑一下\")\n",
    "else:\n",
    "    print(\"拜拜~\")"
   ]
  },
  {
   "cell_type": "markdown",
   "metadata": {},
   "source": [
    "## EP：\n",
    "- 用户输入一个数字，判断其实奇数还是偶数\n",
    "- 进阶：可以查看下4.5实例研究猜生日"
   ]
  },
  {
   "cell_type": "markdown",
   "metadata": {},
   "source": [
    "## 双向if-else 语句\n",
    "- 如果条件为真，那么走if内部语句，否则走else内部语句"
   ]
  },
  {
   "cell_type": "markdown",
   "metadata": {},
   "source": [
    "## EP：\n",
    "- 产生两个随机整数number1和number2，然后显示给用户，使用户输入数字，并判定其是否正确,如果正确打印“you‘re correct”，否则打印正确错误"
   ]
  },
  {
   "cell_type": "markdown",
   "metadata": {},
   "source": [
    "## 嵌套if 和多向if-elif-else\n",
    "![](../Photo/35.png)"
   ]
  },
  {
   "cell_type": "markdown",
   "metadata": {},
   "source": [
    "## EP：\n",
    "- 提示用户输入一个年份，然后显示表示这一年的动物\n",
    "![](../Photo/36.png)\n",
    "- 计算身体质量指数的程序\n",
    "- BMI = 以千克为单位的体重除以以米为单位的身高的平方\n",
    "![](../Photo/37.png)"
   ]
  },
  {
   "cell_type": "code",
   "execution_count": 7,
   "metadata": {},
   "outputs": [
    {
     "name": "stdout",
     "output_type": "stream",
     "text": [
      "输入体重>>50\n",
      "输入身高>>1.62\n",
      "标准\n"
     ]
    }
   ],
   "source": [
    "weight = eval(input(\"输入体重>>\"))\n",
    "leight = eval(input(\"输入身高>>\"))\n",
    "BMI = weight/(leight*leight)\n",
    "if 30.0<=BMI:\n",
    "    jieshi=\"痴肥\"\n",
    "elif 25.0<=BMI<30.0:\n",
    "    jieshi=\"超重\"\n",
    "elif 18.5<=BMI<25.0:\n",
    "    jieshi=\"标准\"\n",
    "elif BMI<18.5:\n",
    "    jieshi=\"超轻\"\n",
    "print(jieshi)"
   ]
  },
  {
   "cell_type": "code",
   "execution_count": 3,
   "metadata": {},
   "outputs": [
    {
     "name": "stdout",
     "output_type": "stream",
     "text": [
      "输入一个年份：1997\n",
      "1997 牛🐂\n"
     ]
    }
   ],
   "source": [
    "year = eval(input(\"输入一个年份：\"))\n",
    "if year%12 ==11:\n",
    "    dongwu = \"羊🐏\"\n",
    "elif year%12 ==10:\n",
    "    dongwu = \"马🐎\"\n",
    "elif year%12 ==9:\n",
    "    dongwu = \"蛇🐍\"\n",
    "elif year%12 ==8:\n",
    "    dongwu = \"龙🐉\"\n",
    "elif year%12 ==7:\n",
    "    dongwu = \"兔🐇\"\n",
    "elif year%12 ==6:\n",
    "    dongwu = \"虎🐯\"\n",
    "elif year%12 ==5:\n",
    "    dongwu = \"牛🐂\"\n",
    "elif year%12 ==4:\n",
    "    dongwu = \"鼠🐀\"\n",
    "elif year%12 ==3:\n",
    "    dongwu = \"猪🐖\"\n",
    "elif year%12 ==2:\n",
    "    dongwu = \"狗🐶\"\n",
    "elif year%12 ==1:\n",
    "    dongwu = \"鸡🐔\"\n",
    "elif year%12 ==0:\n",
    "    dongwu = \"猴🐵\"\n",
    "print(year,dongwu)"
   ]
  },
  {
   "cell_type": "markdown",
   "metadata": {},
   "source": [
    "## 逻辑运算符\n",
    "![](../Photo/38.png)"
   ]
  },
  {
   "cell_type": "markdown",
   "metadata": {},
   "source": [
    "![](../Photo/39.png)\n",
    "![](../Photo/40.png)"
   ]
  },
  {
   "cell_type": "markdown",
   "metadata": {},
   "source": [
    "## EP：\n",
    "- 判定闰年：一个年份如果能被4整除但不能被100整除，或者能被400整除，那么这个年份就是闰年\n",
    "- 提示用户输入一个年份，并返回是否是闰年\n",
    "- 提示用户输入一个数字，判断其是否为水仙花数"
   ]
  },
  {
   "cell_type": "code",
   "execution_count": 2,
   "metadata": {},
   "outputs": [
    {
     "name": "stdout",
     "output_type": "stream",
     "text": [
      "输入一个年份：2000\n",
      "是闰年\n"
     ]
    }
   ],
   "source": [
    "#if条件语句\n",
    "year = int(input(\"输入一个年份：\"))\n",
    "if (year%4)==0:\n",
    "    if (year%100)==0:\n",
    "        if (year%400)==0:\n",
    "            print(\"是闰年\")\n",
    "        else:\n",
    "            print(\"不是闰年\")\n",
    "    else:\n",
    "        print(\"是闰年\")\n",
    "else:\n",
    "    print(\"不是闰年\")"
   ]
  },
  {
   "cell_type": "code",
   "execution_count": 6,
   "metadata": {},
   "outputs": [
    {
     "name": "stdout",
     "output_type": "stream",
     "text": [
      "输入一个年份：2000\n",
      "是闰年\n"
     ]
    }
   ],
   "source": [
    "#或与非\n",
    "year = int(input(\"输入一个年份：\"))\n",
    "if (year % 4 ==0 and year % 100 !=0) or (year % 400 ==0):\n",
    "    print(\"是闰年\")\n",
    "else:\n",
    "    print(\"是平年\")"
   ]
  },
  {
   "cell_type": "code",
   "execution_count": 1,
   "metadata": {},
   "outputs": [
    {
     "name": "stdout",
     "output_type": "stream",
     "text": [
      "输入一个三位数：153\n",
      "是水仙花数\n"
     ]
    }
   ],
   "source": [
    "num = eval(input(\"输入一个三位数：\"))\n",
    "a=num%10\n",
    "b=(num%100)//10\n",
    "c=(num%1000)//100\n",
    "if num == a**3 + b**3 + c**3:\n",
    "    print (\"是水仙花数\")\n",
    "else:\n",
    "    print (\"不是水仙花数\")"
   ]
  },
  {
   "cell_type": "markdown",
   "metadata": {},
   "source": [
    "## 实例研究：彩票\n",
    "![](../Photo/41.png)"
   ]
  },
  {
   "cell_type": "code",
   "execution_count": 5,
   "metadata": {},
   "outputs": [],
   "source": [
    "import random"
   ]
  },
  {
   "cell_type": "code",
   "execution_count": null,
   "metadata": {},
   "outputs": [],
   "source": [
    "num1 = random.randint(10,99)\n",
    "num = (input(\"输入一个两位数：\"))\n",
    "num1_shi = num1 // 10\n",
    "num1_ge = num1 %10\n",
    "if\n",
    "num_shi = num // 10\n",
    "num_ge = sum % 10\n",
    "if num1 == num:\n",
    "    print(\"1000\")\n",
    "elif num1_shi + num1_ge == num_shi + num_ge:\n",
    "    print(\"3000\")\n",
    "elif "
   ]
  },
  {
   "cell_type": "markdown",
   "metadata": {},
   "source": [
    "# Homework\n",
    "- 1\n",
    "![](../Photo/42.png)"
   ]
  },
  {
   "cell_type": "code",
   "execution_count": 17,
   "metadata": {},
   "outputs": [
    {
     "name": "stdout",
     "output_type": "stream",
     "text": [
      "a为：1\n",
      "b为：2\n",
      "c为：3\n",
      "The equation has no real roots\n"
     ]
    }
   ],
   "source": [
    "import math\n",
    "a = eval(input(\"a为：\"))\n",
    "b = eval(input(\"b为：\"))\n",
    "c = eval(input(\"c为：\"))\n",
    "X1 = b**2-4*a*c\n",
    "if X1>0:\n",
    "    r1 = (-b+math.sqrt(b**2-4*a*c))/(2*a)\n",
    "    r2 = (-b-math.sqrt(b**2-4*a*c))/(2*a)\n",
    "    print(r1,r2)\n",
    "if X1==0:\n",
    "    r=-b/2*a\n",
    "    print(r)\n",
    "if X1<0:\n",
    "    print('The equation has no real roots')"
   ]
  },
  {
   "cell_type": "markdown",
   "metadata": {},
   "source": [
    "- 2\n",
    "![](../Photo/43.png)"
   ]
  },
  {
   "cell_type": "code",
   "execution_count": 13,
   "metadata": {},
   "outputs": [
    {
     "name": "stdout",
     "output_type": "stream",
     "text": [
      "输入这两个整数的和178\n",
      "程序报告为假\n",
      "这两个随机数为： 10 80\n"
     ]
    }
   ],
   "source": [
    "import random\n",
    "value1 = random.randint(0,99)\n",
    "value2 = random.randint(0,99)\n",
    "sum1 = value1+value2\n",
    "sum = eval(input(\"输入这两个整数的和\"))\n",
    "if sum == sum1:\n",
    "    print(\"程序报告结果为真\")\n",
    "else:\n",
    "    print(\"程序报告为假\")\n",
    "print(\"这两个随机数为：\",value1,value2)"
   ]
  },
  {
   "cell_type": "markdown",
   "metadata": {},
   "source": [
    "- 3\n",
    "![](../Photo/44.png)"
   ]
  },
  {
   "cell_type": "code",
   "execution_count": 9,
   "metadata": {},
   "outputs": [
    {
     "name": "stdout",
     "output_type": "stream",
     "text": [
      "输入今天是一周的某一天:0\n",
      "输入今天之后到未来某天的天数:31\n",
      "今天是： 0\n",
      "未来是： Wednesday\n"
     ]
    }
   ],
   "source": [
    "today = eval(input(\"输入今天是一周的某一天:\"))\n",
    "num = eval(input(\"输入今天之后到未来某天的天数:\"))\n",
    "if num%7==0:\n",
    "    laterday = \"Sunday\"\n",
    "elif num%7==1:\n",
    "    laterday = \"Monday\"\n",
    "elif num%7==2:\n",
    "    laterday = \"Tuesday\"\n",
    "elif num%7==3:\n",
    "    laterday = \"Wednesday\"\n",
    "elif num%7==4:\n",
    "    laterday = \"Thursday\"\n",
    "elif num%7==5:\n",
    "    laterday = \"Friday\"\n",
    "elif num%7==6:\n",
    "    laterday = \"Saturday\"\n",
    "print(\"今天是：\",today)\n",
    "print(\"未来是：\",laterday)"
   ]
  },
  {
   "cell_type": "markdown",
   "metadata": {},
   "source": [
    "- 4\n",
    "![](../Photo/45.png)"
   ]
  },
  {
   "cell_type": "code",
   "execution_count": 4,
   "metadata": {},
   "outputs": [
    {
     "name": "stdout",
     "output_type": "stream",
     "text": [
      "请输入整数：11\n",
      "请输入整数：23\n",
      "请输入整数：34\n",
      "<built-in function sum>\n"
     ]
    }
   ],
   "source": [
    "num1 = int(input(\"请输入整数：\"))\n",
    "num2 = int(input(\"请输入整数：\"))\n",
    "num3 = int(input(\"请输入整数：\"))\n",
    "num = [num1,num2,num3]\n",
    "num.sort( )\n",
    "print(sum)z"
   ]
  },
  {
   "cell_type": "code",
   "execution_count": 18,
   "metadata": {},
   "outputs": [
    {
     "name": "stdout",
     "output_type": "stream",
     "text": [
      "请输入第一个整数：12\n",
      "请输入第二个整数：34\n",
      "请输入第三个整数：56\n",
      "12 34 56\n"
     ]
    }
   ],
   "source": [
    "x = int(input('请输入第一个整数：'))\n",
    "y = int(input('请输入第二个整数：'))\n",
    "z = int(input('请输入第三个整数：'))\n",
    "if x>y:\n",
    "    x,y = y,x\n",
    "if x>z:\n",
    "    x,z = z,x\n",
    "if y>z:\n",
    "    y,z = z,y\n",
    "print(x,y,z)"
   ]
  },
  {
   "cell_type": "markdown",
   "metadata": {},
   "source": [
    "- 5\n",
    "![](../Photo/46.png)"
   ]
  },
  {
   "cell_type": "code",
   "execution_count": null,
   "metadata": {},
   "outputs": [],
   "source": [
    "x1,y1 = eval(input(\"weight_1>>:,package_1\"))\n",
    "x2,y2 = eval(input(\"weight_2,package_2\"))"
   ]
  },
  {
   "cell_type": "code",
   "execution_count": 6,
   "metadata": {},
   "outputs": [
    {
     "name": "stdout",
     "output_type": "stream",
     "text": [
      "weight_1>>, package_1>>50,24.59\n",
      "weight_2>>, weight_2>>25,11.99\n",
      "Better price is : 0.4796\n"
     ]
    }
   ],
   "source": [
    "weight_1,package_1 = eval(input(\"weight_1>>, package_1>>\"))\n",
    "weight_2,package_2 = eval(input(\"weight_2>>, weight_2>>\"))\n",
    "price_1 = package_1/weight_1\n",
    "price_2 = package_2/weight_2\n",
    "if price_1 > price_2:\n",
    "    print(\"Better price is :\",price_2)"
   ]
  },
  {
   "cell_type": "markdown",
   "metadata": {},
   "source": [
    "- 6\n",
    "![](../Photo/47.png)"
   ]
  },
  {
   "cell_type": "code",
   "execution_count": 7,
   "metadata": {},
   "outputs": [
    {
     "name": "stdout",
     "output_type": "stream",
     "text": [
      "请输入年份2000\n",
      "请输入月份2\n",
      "(1, 29)\n"
     ]
    }
   ],
   "source": [
    "import calendar\n",
    "year = eval(input(\"请输入年份\"))\n",
    "month = eval(input(\"请输入月份\"))\n",
    "day = calendar.monthrange(year,month)\n",
    "print(day)"
   ]
  },
  {
   "cell_type": "markdown",
   "metadata": {},
   "source": [
    "- 7\n",
    "![](../Photo/48.png)"
   ]
  },
  {
   "cell_type": "code",
   "execution_count": 13,
   "metadata": {},
   "outputs": [
    {
     "name": "stdout",
     "output_type": "stream",
     "text": [
      "输入猜测值正确与否[1/0]0\n",
      "猜测错误\n"
     ]
    }
   ],
   "source": [
    "Cai = eval(input(\"输入猜测值正确与否[1/0]\"))\n",
    "if Cai ==1:\n",
    "    print(\"猜测正确\")\n",
    "else:\n",
    "    print(\"猜测错误\")"
   ]
  },
  {
   "cell_type": "markdown",
   "metadata": {},
   "source": [
    "- 8\n",
    "![](../Photo/49.png)"
   ]
  },
  {
   "cell_type": "code",
   "execution_count": null,
   "metadata": {},
   "outputs": [],
   "source": [
    "num1 = eval(input(\"请输入0（剪刀）或1（石头）或2（布）>>:\"))\n",
    "year = eval(input(\"输入年份>>\"))\n",
    "m = eval(input(\"请输入3（三月）或4（四月）或5（五月）或6（六月）或7（七月）或8（八月）或9（九月）或10（十月）或11（十一月）或12（十二月）>>:\"))\n",
    "q = eval(input(\"输入某天>>\"))\n",
    "j = year/100\n",
    "k = year%100\n",
    "h = (q + [(26*(m+1))/10] + k +[k/4] + [j/4] + 5*j)%7"
   ]
  },
  {
   "cell_type": "markdown",
   "metadata": {},
   "source": [
    "- 9\n",
    "![](../Photo/50.png)"
   ]
  },
  {
   "cell_type": "markdown",
   "metadata": {},
   "source": [
    "- 10\n",
    "![](../Photo/51.png)"
   ]
  },
  {
   "cell_type": "code",
   "execution_count": 7,
   "metadata": {},
   "outputs": [
    {
     "name": "stdout",
     "output_type": "stream",
     "text": [
      "5\n",
      "方块\n"
     ]
    }
   ],
   "source": [
    "import random\n",
    "num1 = random.randint(1,13)\n",
    "num2 = random.randint(14,17)\n",
    "if num1==1:\n",
    "    print('Ace')\n",
    "if num1==2:\n",
    "    print(2)\n",
    "if num1==3:\n",
    "    print(3)\n",
    "if num1==4:\n",
    "    print(4)\n",
    "if num1==5:\n",
    "    print(5)\n",
    "if num1==6:\n",
    "    print(6)\n",
    "if num1==7:\n",
    "    print(7)\n",
    "if num1==8:\n",
    "    print(8)\n",
    "if num1==9:\n",
    "    print(9)\n",
    "if num1==10:\n",
    "    print(10)\n",
    "if num1==11:\n",
    "    print('Jack')\n",
    "if num1==12:\n",
    "    print('Queen')\n",
    "if num1==13:\n",
    "    print('King')\n",
    "if num2==14:\n",
    "    print('梅花')\n",
    "if num2==15:\n",
    "    print('红桃')\n",
    "if num2==16:\n",
    "    print('方块')\n",
    "if num2==17:\n",
    "    print('黑桃')"
   ]
  },
  {
   "cell_type": "markdown",
   "metadata": {},
   "source": [
    "- 11\n",
    "![](../Photo/52.png)"
   ]
  },
  {
   "cell_type": "code",
   "execution_count": 15,
   "metadata": {},
   "outputs": [
    {
     "name": "stdout",
     "output_type": "stream",
     "text": [
      "2 3 9\n"
     ]
    }
   ],
   "source": [
    "a=932%10\n",
    "b=(932%100)//10\n",
    "c=932//100\n",
    "print(a,b,c)"
   ]
  },
  {
   "cell_type": "code",
   "execution_count": 14,
   "metadata": {},
   "outputs": [
    {
     "name": "stdout",
     "output_type": "stream",
     "text": [
      "请输入一个三位数：123\n",
      "不是回文数\n"
     ]
    }
   ],
   "source": [
    "num = eval(input('请输入一个三位数：'))\n",
    "a=num%10\n",
    "b=(num%100)//10\n",
    "c=num//100\n",
    "if a==c:\n",
    "    print(\"是回文数\")\n",
    "else:\n",
    "    print(\"不是回文数\")"
   ]
  },
  {
   "cell_type": "markdown",
   "metadata": {},
   "source": [
    "- 12\n",
    "![](../Photo/53.png)"
   ]
  },
  {
   "cell_type": "code",
   "execution_count": 12,
   "metadata": {},
   "outputs": [
    {
     "name": "stdout",
     "output_type": "stream",
     "text": [
      "输入第一条边1\n",
      "输入第二条边1\n",
      "输入第三条边1\n",
      "perimeter: 3\n"
     ]
    }
   ],
   "source": [
    "num1 = eval(input(\"输入第一条边\"))\n",
    "num2 = eval(input(\"输入第二条边\"))\n",
    "num3 = eval(input(\"输入第三条边\"))\n",
    "if (num1+num2)>num3 and (num2+num3)>num1 and (num3+num1) >num2:\n",
    "    perimeter = num1 + num2 + num3\n",
    "    print(\"perimeter:\",perimeter) \n",
    "else :\n",
    "    print(\"输入是非法的\")"
   ]
  }
 ],
 "metadata": {
  "kernelspec": {
   "display_name": "Python 3",
   "language": "python",
   "name": "python3"
  },
  "language_info": {
   "codemirror_mode": {
    "name": "ipython",
    "version": 3
   },
   "file_extension": ".py",
   "mimetype": "text/x-python",
   "name": "python",
   "nbconvert_exporter": "python",
   "pygments_lexer": "ipython3",
   "version": "3.7.3"
  }
 },
 "nbformat": 4,
 "nbformat_minor": 2
}
